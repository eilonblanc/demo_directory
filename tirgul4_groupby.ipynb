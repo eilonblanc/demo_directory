{
 "cells": [
  {
   "cell_type": "code",
   "execution_count": null,
   "metadata": {
    "colab": {
     "base_uri": "https://localhost:8080/"
    },
    "executionInfo": {
     "elapsed": 346,
     "status": "ok",
     "timestamp": 1660136685497,
     "user": {
      "displayName": "Shai Tirgulim",
      "userId": "18041892042069420089"
     },
     "user_tz": -180
    },
    "id": "9VmuawPOthb9",
    "outputId": "9b1340c1-f27a-45af-885b-f62bca595b1d"
   },
   "outputs": [],
   "source": [
    "# tirgul4\n",
    "# random\n",
    "import numpy as np\n",
    "e = np.random.random((2,4)) \n",
    "print(e)"
   ]
  },
  {
   "cell_type": "markdown",
   "metadata": {
    "id": "qTAf3CqKthcC"
   },
   "source": [
    "#### self excercise: suggest how to apply average to 5 of 6 top grades"
   ]
  },
  {
   "cell_type": "markdown",
   "metadata": {
    "id": "D8BoTJvJO-Zv"
   },
   "source": []
  },
  {
   "cell_type": "markdown",
   "metadata": {
    "id": "7wqShKWmPE3s"
   },
   "source": [
    "### generate 10X6 matrix of numbers between 70(inclusive) to 100(exclusive)"
   ]
  },
  {
   "cell_type": "code",
   "execution_count": null,
   "metadata": {
    "colab": {
     "base_uri": "https://localhost:8080/"
    },
    "executionInfo": {
     "elapsed": 17,
     "status": "ok",
     "timestamp": 1660136685498,
     "user": {
      "displayName": "Shai Tirgulim",
      "userId": "18041892042069420089"
     },
     "user_tz": -180
    },
    "id": "nIxY0dYFthcF",
    "outputId": "57345a3b-5fa7-44f0-b94e-5879161fb514"
   },
   "outputs": [],
   "source": [
    "numGrades = 6\n",
    "numStudents = 10\n",
    "grades = np.random.randint(70,100,size=(numStudents,numGrades))\n",
    "print(grades)"
   ]
  },
  {
   "cell_type": "markdown",
   "metadata": {
    "id": "ZJocQ67rPMAk"
   },
   "source": [
    "*  randint reference: https://www.w3schools.com/python/ref_random_randint.asp\n",
    "* min and max range included in randint"
   ]
  },
  {
   "cell_type": "code",
   "execution_count": null,
   "metadata": {
    "colab": {
     "base_uri": "https://localhost:8080/"
    },
    "executionInfo": {
     "elapsed": 288,
     "status": "ok",
     "timestamp": 1660136728705,
     "user": {
      "displayName": "Shai Tirgulim",
      "userId": "18041892042069420089"
     },
     "user_tz": -180
    },
    "id": "6vikasoRthcH",
    "outputId": "cc2424c6-ab57-4205-9f10-e6b05dfde14f"
   },
   "outputs": [],
   "source": [
    "top5Avg = (grades.sum(axis=1)-grades.min(axis=1)) / (numGrades-1)\n",
    "print(top5Avg)\n",
    "top5Avg = top5Avg.reshape(len(top5Avg),1) # for display purpose\n",
    "print(top5Avg)"
   ]
  },
  {
   "cell_type": "markdown",
   "metadata": {
    "id": "pDe3K0rCP-vh"
   },
   "source": [
    "#### Read data about Covid cases in Italy on start stage of pandemic using pandas"
   ]
  },
  {
   "cell_type": "code",
   "execution_count": null,
   "metadata": {
    "colab": {
     "base_uri": "https://localhost:8080/",
     "height": 206
    },
    "executionInfo": {
     "elapsed": 1810,
     "status": "ok",
     "timestamp": 1660136687297,
     "user": {
      "displayName": "Shai Tirgulim",
      "userId": "18041892042069420089"
     },
     "user_tz": -180
    },
    "id": "wATqn0oYthcJ",
    "outputId": "f4452e5e-73dd-4c14-a639-f87ee383b947"
   },
   "outputs": [],
   "source": [
    "\n",
    "import pandas as pd\n",
    "url = 'https://raw.githubusercontent.com/nlihin/data-analytics/main/datasets/italy-covid-daywise.csv'\n",
    "covid_df = pd.read_csv(url)\n",
    "covid_df.tail()"
   ]
  },
  {
   "cell_type": "markdown",
   "metadata": {
    "id": "CoYL7helQP9R"
   },
   "source": [
    "#### We will focus on date column"
   ]
  },
  {
   "cell_type": "code",
   "execution_count": null,
   "metadata": {
    "colab": {
     "base_uri": "https://localhost:8080/"
    },
    "executionInfo": {
     "elapsed": 96,
     "status": "ok",
     "timestamp": 1660136687299,
     "user": {
      "displayName": "Shai Tirgulim",
      "userId": "18041892042069420089"
     },
     "user_tz": -180
    },
    "id": "8ckbtutXthcL",
    "outputId": "eeb6b359-16b3-4d51-bffb-2227294b8e5e"
   },
   "outputs": [],
   "source": [
    "\n",
    "covid_df[\"date\"]\n"
   ]
  },
  {
   "cell_type": "markdown",
   "metadata": {
    "id": "OJEgmW4uQV4B"
   },
   "source": [
    "#### note that date type is object. let's convert it to pandas datetime\n",
    "#### for pandas datetime reference and examples: https://pandas.pydata.org/pandas-docs/stable/reference/api/pandas.to_datetime.html \n",
    "#### video tutorial: https://www.youtube.com/watch?v=UFuo7EHI8zc"
   ]
  },
  {
   "cell_type": "code",
   "execution_count": null,
   "metadata": {
    "colab": {
     "base_uri": "https://localhost:8080/"
    },
    "executionInfo": {
     "elapsed": 86,
     "status": "ok",
     "timestamp": 1660136687300,
     "user": {
      "displayName": "Shai Tirgulim",
      "userId": "18041892042069420089"
     },
     "user_tz": -180
    },
    "id": "zYMsuGtOthcN",
    "outputId": "7fd7700c-34d7-41e9-90c5-7baf9906ed4f"
   },
   "outputs": [],
   "source": [
    "covid_df['date'] = pd.to_datetime(covid_df.date)\n",
    "covid_df['date']"
   ]
  },
  {
   "cell_type": "markdown",
   "metadata": {
    "id": "ejccW6LOQlzU"
   },
   "source": [
    "#### now we can extract the year,month,day and weekday properties (and much more ) "
   ]
  },
  {
   "cell_type": "code",
   "execution_count": null,
   "metadata": {
    "colab": {
     "base_uri": "https://localhost:8080/",
     "height": 423
    },
    "executionInfo": {
     "elapsed": 81,
     "status": "ok",
     "timestamp": 1660136687301,
     "user": {
      "displayName": "Shai Tirgulim",
      "userId": "18041892042069420089"
     },
     "user_tz": -180
    },
    "id": "DsFf3S4ithcO",
    "outputId": "4c0eac8e-f90e-4d30-82e5-4abda4834417"
   },
   "outputs": [],
   "source": [
    "covid_df['year'] = pd.DatetimeIndex(covid_df.date).year\n",
    "covid_df['month'] = pd.DatetimeIndex(covid_df.date).month\n",
    "covid_df['day'] = pd.DatetimeIndex(covid_df.date).day\n",
    "covid_df['weekday'] = pd.DatetimeIndex(covid_df.date).weekday\n",
    "covid_df"
   ]
  },
  {
   "cell_type": "markdown",
   "metadata": {
    "id": "YCJzWKJGQx1F"
   },
   "source": [
    "#### By using datetime we can present rows of specific dates, for example only August:"
   ]
  },
  {
   "cell_type": "code",
   "execution_count": null,
   "metadata": {
    "colab": {
     "base_uri": "https://localhost:8080/",
     "height": 206
    },
    "executionInfo": {
     "elapsed": 71,
     "status": "ok",
     "timestamp": 1660136687302,
     "user": {
      "displayName": "Shai Tirgulim",
      "userId": "18041892042069420089"
     },
     "user_tz": -180
    },
    "id": "un8xr42AthcR",
    "outputId": "07cc0254-75ff-4ab5-fb38-d1b2d62f1045"
   },
   "outputs": [],
   "source": [
    "covid_df_august = covid_df[covid_df.month == 8]\n",
    "covid_df_august.tail()"
   ]
  },
  {
   "cell_type": "markdown",
   "metadata": {
    "id": "rKGwpnM2RGQz"
   },
   "source": [
    "* Focus on 'new_cases', 'new_deaths' and 'new_tests' columns\n",
    "\n"
   ]
  },
  {
   "cell_type": "code",
   "execution_count": null,
   "metadata": {
    "executionInfo": {
     "elapsed": 66,
     "status": "ok",
     "timestamp": 1660136687303,
     "user": {
      "displayName": "Shai Tirgulim",
      "userId": "18041892042069420089"
     },
     "user_tz": -180
    },
    "id": "vDb0d4lwthcU"
   },
   "outputs": [],
   "source": [
    "covid_df_august_metrics = covid_df_august[['new_cases', 'new_deaths', 'new_tests']]\n",
    "\n",
    "\n"
   ]
  },
  {
   "cell_type": "markdown",
   "metadata": {
    "id": "-4lOycO3RblX"
   },
   "source": [
    "* sum"
   ]
  },
  {
   "cell_type": "code",
   "execution_count": null,
   "metadata": {
    "colab": {
     "base_uri": "https://localhost:8080/"
    },
    "executionInfo": {
     "elapsed": 66,
     "status": "ok",
     "timestamp": 1660136687304,
     "user": {
      "displayName": "Shai Tirgulim",
      "userId": "18041892042069420089"
     },
     "user_tz": -180
    },
    "id": "OkR35cvERfb6",
    "outputId": "0592e2ff-a367-4264-9e25-479389b63e66"
   },
   "outputs": [],
   "source": [
    "covid_august_totals = covid_df_august_metrics.sum()\n",
    "covid_august_totals"
   ]
  },
  {
   "cell_type": "markdown",
   "metadata": {
    "id": "X9vJm3lORiv8"
   },
   "source": [
    "* mean "
   ]
  },
  {
   "cell_type": "code",
   "execution_count": null,
   "metadata": {
    "colab": {
     "base_uri": "https://localhost:8080/"
    },
    "executionInfo": {
     "elapsed": 507,
     "status": "ok",
     "timestamp": 1660136687765,
     "user": {
      "displayName": "Shai Tirgulim",
      "userId": "18041892042069420089"
     },
     "user_tz": -180
    },
    "id": "ZPAVB4zqthcV",
    "outputId": "69f32b38-bbf3-42c4-d735-07724569ca6b"
   },
   "outputs": [],
   "source": [
    "covid_df_august_metrics.mean()"
   ]
  },
  {
   "cell_type": "markdown",
   "metadata": {
    "id": "UBe48Fb0Rn9h"
   },
   "source": [
    "* median"
   ]
  },
  {
   "cell_type": "code",
   "execution_count": null,
   "metadata": {
    "colab": {
     "base_uri": "https://localhost:8080/"
    },
    "executionInfo": {
     "elapsed": 61,
     "status": "ok",
     "timestamp": 1660136687767,
     "user": {
      "displayName": "Shai Tirgulim",
      "userId": "18041892042069420089"
     },
     "user_tz": -180
    },
    "id": "A_maja2uthcf",
    "outputId": "ef8c5850-5ac7-4893-990c-d0da4a488f25"
   },
   "outputs": [],
   "source": [
    "covid_df_august_metrics.median()"
   ]
  },
  {
   "cell_type": "markdown",
   "metadata": {
    "id": "iNCLZwNYR0lM"
   },
   "source": [
    "#### The groupby command can be used to apply function for all monthes"
   ]
  },
  {
   "cell_type": "markdown",
   "metadata": {
    "id": "MUC_LjVyR-97"
   },
   "source": [
    "* sum:"
   ]
  },
  {
   "cell_type": "code",
   "execution_count": null,
   "metadata": {
    "colab": {
     "base_uri": "https://localhost:8080/",
     "height": 394
    },
    "executionInfo": {
     "elapsed": 56,
     "status": "ok",
     "timestamp": 1660136687770,
     "user": {
      "displayName": "Shai Tirgulim",
      "userId": "18041892042069420089"
     },
     "user_tz": -180
    },
    "id": "ygopMUhmthcg",
    "outputId": "dc3f847f-f0d9-4e2b-a9ac-dc334de163a1"
   },
   "outputs": [],
   "source": [
    "\n",
    "\n",
    "covid_month_df_sum = covid_df.groupby('month')[['new_cases', 'new_deaths', 'new_tests']].sum()\n",
    "covid_month_df_sum"
   ]
  },
  {
   "cell_type": "markdown",
   "metadata": {
    "id": "4ObxdpgKSC6k"
   },
   "source": [
    "* mean"
   ]
  },
  {
   "cell_type": "code",
   "execution_count": null,
   "metadata": {
    "colab": {
     "base_uri": "https://localhost:8080/",
     "height": 394
    },
    "executionInfo": {
     "elapsed": 54,
     "status": "ok",
     "timestamp": 1660136687772,
     "user": {
      "displayName": "Shai Tirgulim",
      "userId": "18041892042069420089"
     },
     "user_tz": -180
    },
    "id": "PhgGBcICthcg",
    "outputId": "d9bccc2a-6cff-4edd-e1e5-d8a999e5f643"
   },
   "outputs": [],
   "source": [
    "covid_df.groupby('month')[['new_cases', 'new_deaths', 'new_tests']].mean()"
   ]
  },
  {
   "cell_type": "code",
   "execution_count": null,
   "metadata": {
    "colab": {
     "base_uri": "https://localhost:8080/"
    },
    "executionInfo": {
     "elapsed": 282,
     "status": "ok",
     "timestamp": 1660137237039,
     "user": {
      "displayName": "Shai Tirgulim",
      "userId": "18041892042069420089"
     },
     "user_tz": -180
    },
    "id": "_kqIv1inthch",
    "outputId": "6d5e1547-d6ac-4d42-a3c8-8d6718f95294"
   },
   "outputs": [],
   "source": [
    "# print todays date in pandas:\n",
    "import pandas as pd\n",
    "from datetime import date # get python datetime\n",
    "print(date.today())"
   ]
  },
  {
   "cell_type": "code",
   "execution_count": null,
   "metadata": {
    "executionInfo": {
     "elapsed": 49,
     "status": "ok",
     "timestamp": 1660136687778,
     "user": {
      "displayName": "Shai Tirgulim",
      "userId": "18041892042069420089"
     },
     "user_tz": -180
    },
    "id": "NbAcSPTCthci"
   },
   "outputs": [],
   "source": [
    "# self learning:.\n",
    "# 1. calculate total deaths in May at the above 'italy-covid-daywise.csv' url\n",
    "# 2. python pandas datetime excercises (with solutions): \n",
    "# https://www.w3resource.com/python-exercises/pandas/datetime/index.php\n",
    "\n"
   ]
  },
  {
   "cell_type": "code",
   "execution_count": null,
   "metadata": {
    "executionInfo": {
     "elapsed": 46,
     "status": "ok",
     "timestamp": 1660136687781,
     "user": {
      "displayName": "Shai Tirgulim",
      "userId": "18041892042069420089"
     },
     "user_tz": -180
    },
    "id": "LJ225g0ZtvjS"
   },
   "outputs": [],
   "source": []
  }
 ],
 "metadata": {
  "colab": {
   "collapsed_sections": [],
   "name": "tirgul4_groupby.ipynb",
   "provenance": []
  },
  "kernelspec": {
   "display_name": "Python 3 (ipykernel)",
   "language": "python",
   "name": "python3"
  },
  "language_info": {
   "codemirror_mode": {
    "name": "ipython",
    "version": 3
   },
   "file_extension": ".py",
   "mimetype": "text/x-python",
   "name": "python",
   "nbconvert_exporter": "python",
   "pygments_lexer": "ipython3",
   "version": "3.9.7"
  }
 },
 "nbformat": 4,
 "nbformat_minor": 4
}
